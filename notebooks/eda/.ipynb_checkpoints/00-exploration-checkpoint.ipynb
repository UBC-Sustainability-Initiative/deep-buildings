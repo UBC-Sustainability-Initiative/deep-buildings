{
 "cells": [
  {
   "cell_type": "code",
   "execution_count": 1,
   "metadata": {},
   "outputs": [],
   "source": [
    "#\n",
    "#For reproducibility \n",
    "#%load_ext watermark\n",
    "#%watermark -v -n -m -p numpy,scipy,sklearn,pandas\n",
    "%load_ext autoreload\n",
    "%autoreload 2"
   ]
  },
  {
   "cell_type": "code",
   "execution_count": 2,
   "metadata": {},
   "outputs": [
    {
     "name": "stdout",
     "output_type": "stream",
     "text": [
      "/Users/rohannuttall/Desktop/rohan/etalab/deep-buildings\n"
     ]
    }
   ],
   "source": [
    "%matplotlib inline\n",
    "import warnings \n",
    "warnings.simplefilter(\"ignore\")\n",
    "import pandas as pd\n",
    "import numpy as np\n",
    "import seaborn as sns\n",
    "import os\n",
    "PROJ_ROOT = os.path.abspath(os.path.join(\"../\"+os.pardir))\n",
    "print(PROJ_ROOT)\n",
    "import sys\n",
    "sys.path.append(os.path.join(PROJ_ROOT, 'src'))\n",
    "\n",
    "# My imports  \n",
    "from data.preprocess import *\n",
    "from visualization.exploratory import exploratory_visualization"
   ]
  },
  {
   "cell_type": "code",
   "execution_count": 3,
   "metadata": {
    "collapsed": true
   },
   "outputs": [],
   "source": [
    "df_name = os.path.join(PROJ_ROOT, 'data', 'interim', 'CIRS_data_joined_LSTM.pkl')\n",
    "df = pd.read_pickle(df_name)"
   ]
  },
  {
   "cell_type": "code",
   "execution_count": 4,
   "metadata": {},
   "outputs": [],
   "source": [
    "regr_vars = ['hum_ratio','hours','solar_radiation','temp','wind_dir','windspeed','L3S_Office_1']\n",
    "target = 'indoorTemp'\n",
    "X,y  = preprocess_data(df, regr_vars, target)\n"
   ]
  },
  {
   "cell_type": "code",
   "execution_count": 5,
   "metadata": {},
   "outputs": [
    {
     "name": "stdout",
     "output_type": "stream",
     "text": [
      "                 target_data\n",
      "windspeed           0.032843\n",
      "L3S_Office_1        0.087448\n",
      "solar_radiation     0.211818\n",
      "wind_dir            0.367273\n",
      "hours               0.386904\n",
      "hum_ratio           0.442037\n",
      "temp                0.708854\n",
      "target_data         1.000000\n"
     ]
    }
   ],
   "source": [
    "CorrMatrix=pd.DataFrame(X.join(y)[X.index.month==7].corr()['target_data'])\n",
    "print(CorrMatrix.sort_values(by=['target_data']))"
   ]
  },
  {
   "cell_type": "code",
   "execution_count": 6,
   "metadata": {},
   "outputs": [
    {
     "data": {
      "text/plain": [
       "['hum_ratio',\n",
       " 'hours',\n",
       " 'solar_radiation',\n",
       " 'temp',\n",
       " 'wind_dir',\n",
       " 'windspeed',\n",
       " 'L3S_Office_1']"
      ]
     },
     "execution_count": 6,
     "metadata": {},
     "output_type": "execute_result"
    }
   ],
   "source": [
    "list(X.columns)"
   ]
  },
  {
   "cell_type": "code",
   "execution_count": 18,
   "metadata": {},
   "outputs": [],
   "source": [
    "# My imports  \n",
    "from modeling.LSTM.model import Model\n",
    "from modeling.LSTM.get_data import generate_data, split_train_test, create_dataset"
   ]
  },
  {
   "cell_type": "code",
   "execution_count": 12,
   "metadata": {},
   "outputs": [],
   "source": [
    "    \n",
    "#    multiplier = [1,-777,-999,-999,-999,-999,-999]\n",
    "#    \n",
    "#    look_back = [2,3,1,2,1,0,0]\n",
    "#    #look_back = [1,1,1,1,1,0,0]\n",
    "#               # Values above must be integers. Determines how many previous days of data of each variable are \n",
    "#               # including in the training/testing variable set\n",
    "#    look_ahead = [0,0,0,0,0,0,0]\n",
    "#               # Same as above, albeit for future days\n",
    "hist_keys = ['hum_ratio','hours','solar_radiation','temp','wind_dir', 'windspeed','L3S_Office_1']\n",
    "regr_vars = ['hum_ratio','hours','solar_radiation','temp','wind_dir', 'windspeed','L3S_Office_1']\n",
    "Xp, yp= generate_data(X, y, freq='D', regr_vars=regr_vars, hist_keys = hist_keys, hist_steps=2)"
   ]
  },
  {
   "cell_type": "code",
   "execution_count": null,
   "metadata": {},
   "outputs": [],
   "source": [
    "# Print correlation values to help hint at what regression parameters to choose\n",
    "%matplotlib inline\n",
    "import seaborn as sns\n",
    "sns.heatmap(Xp.corr())\n",
    "CorrMatrix=pd.DataFrame(Xp.join(yp).corr()['target_data'])\n",
    "print(CorrMatrix.sort_values(by=['target_data']))"
   ]
  },
  {
   "cell_type": "code",
   "execution_count": 13,
   "metadata": {},
   "outputs": [
    {
     "name": "stdout",
     "output_type": "stream",
     "text": [
      "Train Start Date:  2013-08-24 00:00:00\n",
      "Train Stop Date:   2017-08-14 00:00:00\n",
      "Test Start Date:   2016-07-01 00:00:00\n",
      "Test Start Date:   2016-09-30 00:00:00\n"
     ]
    }
   ],
   "source": [
    "trainX, trainY, testX, testY = split_train_test(Xp, yp, test_year=2016)"
   ]
  },
  {
   "cell_type": "code",
   "execution_count": null,
   "metadata": {
    "collapsed": true
   },
   "outputs": [],
   "source": [
    "# the save data function for LSTM needs to be after the 'create_dataset' function"
   ]
  },
  {
   "cell_type": "code",
   "execution_count": 22,
   "metadata": {},
   "outputs": [
    {
     "ename": "TypeError",
     "evalue": "super(type, obj): obj must be an instance or subtype of type",
     "output_type": "error",
     "traceback": [
      "\u001b[0;31m---------------------------------------------------------------------------\u001b[0m",
      "\u001b[0;31mTypeError\u001b[0m                                 Traceback (most recent call last)",
      "\u001b[0;32m<ipython-input-22-55fff127de52>\u001b[0m in \u001b[0;36m<module>\u001b[0;34m()\u001b[0m\n\u001b[0;32m----> 1\u001b[0;31m \u001b[0mmodel\u001b[0m \u001b[0;34m=\u001b[0m \u001b[0mModel\u001b[0m\u001b[0;34m(\u001b[0m\u001b[0mdict\u001b[0m\u001b[0;34m(\u001b[0m\u001b[0mfeatures\u001b[0m\u001b[0;34m=\u001b[0m\u001b[0;36m5\u001b[0m\u001b[0;34m,\u001b[0m \u001b[0mforecast_horizon\u001b[0m\u001b[0;34m=\u001b[0m\u001b[0;36m1\u001b[0m\u001b[0;34m)\u001b[0m\u001b[0;34m)\u001b[0m\u001b[0;34m\u001b[0m\u001b[0;34m\u001b[0m\u001b[0m\n\u001b[0m\u001b[1;32m      2\u001b[0m \u001b[0mmodel\u001b[0m\u001b[0;34m.\u001b[0m\u001b[0mbatch_train\u001b[0m\u001b[0;34m(\u001b[0m\u001b[0mtrainX\u001b[0m\u001b[0;34m,\u001b[0m \u001b[0mtrainY\u001b[0m\u001b[0;34m,\u001b[0m \u001b[0mn_epochs\u001b[0m\u001b[0;34m=\u001b[0m\u001b[0;36m450\u001b[0m\u001b[0;34m,\u001b[0m \u001b[0mlr\u001b[0m\u001b[0;34m=\u001b[0m\u001b[0;36m0.0005\u001b[0m\u001b[0;34m)\u001b[0m\u001b[0;34m\u001b[0m\u001b[0;34m\u001b[0m\u001b[0m\n",
      "\u001b[0;32m/Users/rohannuttall/Desktop/rohan/etalab/deep-buildings/src/modeling/lstm/model.py\u001b[0m in \u001b[0;36m__init__\u001b[0;34m(self, config)\u001b[0m\n\u001b[1;32m     29\u001b[0m \u001b[0;32mclass\u001b[0m \u001b[0mModel\u001b[0m\u001b[0;34m(\u001b[0m\u001b[0mnn\u001b[0m\u001b[0;34m.\u001b[0m\u001b[0mModule\u001b[0m\u001b[0;34m)\u001b[0m\u001b[0;34m:\u001b[0m\u001b[0;34m\u001b[0m\u001b[0;34m\u001b[0m\u001b[0m\n\u001b[1;32m     30\u001b[0m     \u001b[0;32mdef\u001b[0m \u001b[0m__init__\u001b[0m\u001b[0;34m(\u001b[0m\u001b[0mself\u001b[0m\u001b[0;34m,\u001b[0m \u001b[0mconfig\u001b[0m\u001b[0;34m)\u001b[0m\u001b[0;34m:\u001b[0m\u001b[0;34m\u001b[0m\u001b[0;34m\u001b[0m\u001b[0m\n\u001b[0;32m---> 31\u001b[0;31m         \u001b[0msuper\u001b[0m\u001b[0;34m(\u001b[0m\u001b[0mModel\u001b[0m\u001b[0;34m,\u001b[0m \u001b[0mself\u001b[0m\u001b[0;34m)\u001b[0m\u001b[0;34m.\u001b[0m\u001b[0m__init__\u001b[0m\u001b[0;34m(\u001b[0m\u001b[0;34m)\u001b[0m\u001b[0;34m\u001b[0m\u001b[0;34m\u001b[0m\u001b[0m\n\u001b[0m\u001b[1;32m     32\u001b[0m         \u001b[0mself\u001b[0m\u001b[0;34m.\u001b[0m\u001b[0mhidden_size\u001b[0m \u001b[0;34m=\u001b[0m \u001b[0;36m128\u001b[0m\u001b[0;34m\u001b[0m\u001b[0;34m\u001b[0m\u001b[0m\n\u001b[1;32m     33\u001b[0m         \u001b[0mself\u001b[0m\u001b[0;34m.\u001b[0m\u001b[0mbi\u001b[0m \u001b[0;34m=\u001b[0m \u001b[0;36m1\u001b[0m\u001b[0;34m\u001b[0m\u001b[0;34m\u001b[0m\u001b[0m\n",
      "\u001b[0;31mTypeError\u001b[0m: super(type, obj): obj must be an instance or subtype of type"
     ]
    }
   ],
   "source": [
    "model = Model(dict(features=5, forecast_horizon=1))\n",
    "model.batch_train(trainX, trainY, n_epochs=450, lr=0.0005)"
   ]
  },
  {
   "cell_type": "code",
   "execution_count": null,
   "metadata": {
    "collapsed": true
   },
   "outputs": [],
   "source": []
  }
 ],
 "metadata": {
  "kernelspec": {
   "display_name": "Python 3",
   "language": "python",
   "name": "python3"
  },
  "language_info": {
   "codemirror_mode": {
    "name": "ipython",
    "version": 3
   },
   "file_extension": ".py",
   "mimetype": "text/x-python",
   "name": "python",
   "nbconvert_exporter": "python",
   "pygments_lexer": "ipython3",
   "version": "3.6.7"
  }
 },
 "nbformat": 4,
 "nbformat_minor": 2
}
